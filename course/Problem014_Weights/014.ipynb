{
  "nbformat": 4,
  "nbformat_minor": 0,
  "metadata": {
    "kernelspec": {
      "name": "Python 3.8.2 64-bit ('pml')",
      "display_name": "Python 3.8.2 64-bit ('pml')",
      "metadata": {
        "interpreter": {
          "hash": "a4c9474aacc61cf72d0f1c29f4a339e5d6b2171c287541cfd684cf058783219b"
        }
      }
    },
    "language_info": {
      "codemirror_mode": {
        "name": "ipython",
        "version": 3
      },
      "file_extension": ".py",
      "mimetype": "text/x-python",
      "name": "python",
      "nbconvert_exporter": "python",
      "pygments_lexer": "ipython3",
      "version": "3.8.2-final"
    },
    "colab": {
      "name": "014.ipynb",
      "provenance": [],
      "include_colab_link": true
    }
  },
  "cells": [
    {
      "cell_type": "markdown",
      "metadata": {
        "id": "view-in-github",
        "colab_type": "text"
      },
      "source": [
        "<a href=\"https://colab.research.google.com/github/ddobronevskaya/pml/blob/master/course/Problem014_Weights/014.ipynb\" target=\"_parent\"><img src=\"https://colab.research.google.com/assets/colab-badge.svg\" alt=\"Open In Colab\"/></a>"
      ]
    },
    {
      "cell_type": "markdown",
      "metadata": {
        "scrolled": true,
        "id": "gFd4ZGZ50GKH"
      },
      "source": [
        "## Weights or Coeffecients or Theta or Strength of Connection etc"
      ]
    },
    {
      "cell_type": "code",
      "metadata": {
        "colab": {
          "base_uri": "https://localhost:8080/"
        },
        "id": "YE_PzHMG0GKI",
        "outputId": "3d52ddd0-04cc-4f71-b439-e6e2b3e0417f"
      },
      "source": [
        "\n",
        "\n",
        "#TBD Fit linear model on Training data\n",
        "#TBD From the model get the weights\n",
        "\n",
        "#TBD Load boston dataset\n",
        "from sklearn.datasets import load_boston\n",
        "from sklearn.model_selection import train_test_split\n",
        "from sklearn.linear_model import LinearRegression\n",
        "\n",
        "house_data = load_boston()\n",
        "\n",
        "X = house_data['data']\n",
        "Y = house_data['target']\n",
        "#TBD Split into Train and Test dataset. random 90% 10%\n",
        "X_train, X_test, Y_train, Y_test = train_test_split(X, Y, test_size=0.1, random_state=101)\n",
        "model = LinearRegression()\n",
        "model.fit(X_train, Y_train)\n",
        "weights = model.coef_\n",
        "print(weights)"
      ],
      "execution_count": 5,
      "outputs": [
        {
          "output_type": "stream",
          "text": [
            "[-1.13476349e-01  4.64006242e-02  1.95871074e-02  1.96846927e+00\n",
            " -1.78004958e+01  3.51910410e+00  2.48736169e-03 -1.53554738e+00\n",
            "  2.86000300e-01 -1.20098899e-02 -9.57342683e-01  9.41196642e-03\n",
            " -5.26703375e-01]\n"
          ],
          "name": "stdout"
        }
      ]
    },
    {
      "cell_type": "markdown",
      "metadata": {
        "id": "Yq2Bgtzr0GKI"
      },
      "source": [
        "## A special weight:  Bias or Intercept"
      ]
    },
    {
      "cell_type": "code",
      "metadata": {
        "colab": {
          "base_uri": "https://localhost:8080/"
        },
        "id": "t1qOj_n-0GKI",
        "outputId": "aaba307e-3aa7-470a-fbcc-e4489dd1c877"
      },
      "source": [
        "# TBD: From above model get the Bias term\n",
        "import numpy as np\n",
        "bias = model.intercept_\n",
        "print(bias)"
      ],
      "execution_count": 9,
      "outputs": [
        {
          "output_type": "stream",
          "text": [
            "38.43655158846386\n"
          ],
          "name": "stdout"
        }
      ]
    },
    {
      "cell_type": "code",
      "metadata": {
        "colab": {
          "base_uri": "https://localhost:8080/"
        },
        "id": "KxaQtGlI0GKI",
        "outputId": "fd5f88b1-8723-4c31-d749-b3d35d4ccda4"
      },
      "source": [
        "# TBD: Using weights and bias to simulate above model predict for training data Y_hat1\n",
        "# TBD: Using model.predict predict for training data Y_hat2\n",
        "# TBD: Mean squared error for Y_hat1, Y_hat2 (They must be very close, nearly equal)\n",
        "Y_hat2 = model.predict(X_test)\n",
        "Y_hat1 = np.dot(X_test, weights) + bias\n",
        "from sklearn.metrics import mean_squared_error\n",
        "mean_squared_error(Y_hat1, Y_hat2)"
      ],
      "execution_count": 11,
      "outputs": [
        {
          "output_type": "execute_result",
          "data": {
            "text/plain": [
              "0.0"
            ]
          },
          "metadata": {
            "tags": []
          },
          "execution_count": 11
        }
      ]
    },
    {
      "cell_type": "code",
      "metadata": {
        "id": "I9kXVOoE0yqP"
      },
      "source": [
        ""
      ],
      "execution_count": null,
      "outputs": []
    }
  ]
}