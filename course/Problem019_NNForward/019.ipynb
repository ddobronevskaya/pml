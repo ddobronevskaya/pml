{
  "nbformat": 4,
  "nbformat_minor": 0,
  "metadata": {
    "kernelspec": {
      "name": "Python 3.8.2 64-bit ('pml')",
      "display_name": "Python 3.8.2 64-bit ('pml')",
      "metadata": {
        "interpreter": {
          "hash": "a4c9474aacc61cf72d0f1c29f4a339e5d6b2171c287541cfd684cf058783219b"
        }
      }
    },
    "language_info": {
      "codemirror_mode": {
        "name": "ipython",
        "version": 3
      },
      "file_extension": ".py",
      "mimetype": "text/x-python",
      "name": "python",
      "nbconvert_exporter": "python",
      "pygments_lexer": "ipython3",
      "version": "3.8.2-final"
    },
    "colab": {
      "name": "019.ipynb",
      "provenance": [],
      "include_colab_link": true
    }
  },
  "cells": [
    {
      "cell_type": "markdown",
      "metadata": {
        "id": "view-in-github",
        "colab_type": "text"
      },
      "source": [
        "<a href=\"https://colab.research.google.com/github/ddobronevskaya/pml/blob/master/course/Problem019_NNForward/019.ipynb\" target=\"_parent\"><img src=\"https://colab.research.google.com/assets/colab-badge.svg\" alt=\"Open In Colab\"/></a>"
      ]
    },
    {
      "cell_type": "markdown",
      "metadata": {
        "id": "htAnTooO5KLu"
      },
      "source": [
        "## Neural Network\n",
        "\n",
        "<img src=\"https://github.com/ddobronevskaya/pml/blob/master/img/nn016.png?raw=1\" width=\"900\">\n",
        "\n",
        "## TBD: For the given neural network above: \n",
        "* Produce a random weight matrix for Layer 1. (Just give proper shape)\n",
        "* For a first batch of inputs, produce activations from layer 1. (batch_size = 5) \n",
        "\n"
      ]
    },
    {
      "cell_type": "code",
      "metadata": {
        "id": "XqF2NZDC5MEK",
        "outputId": "d19e854c-59df-4269-c5aa-3d9de92de65f",
        "colab": {
          "base_uri": "https://localhost:8080/"
        }
      },
      "source": [
        "import numpy as np\n",
        "#weights - rows, columns - neurons so 2 x 3\n",
        "weights = np.random.randn(2, 3)\n",
        "print(weights)"
      ],
      "execution_count": 2,
      "outputs": [
        {
          "output_type": "stream",
          "text": [
            "[[-0.80196678 -0.92661516 -0.59736798]\n",
            " [ 0.69347253 -0.93865389  1.57751701]]\n"
          ],
          "name": "stdout"
        }
      ]
    },
    {
      "cell_type": "code",
      "metadata": {
        "id": "AGPst_Be5l9a"
      },
      "source": [
        ""
      ],
      "execution_count": null,
      "outputs": []
    },
    {
      "cell_type": "code",
      "metadata": {
        "id": "lo62xgru5L2r",
        "outputId": "607e5b1f-7fcb-444a-fe40-24bbb5b0a19b",
        "colab": {
          "base_uri": "https://localhost:8080/"
        }
      },
      "source": [
        "X = np.array([\n",
        "    [0, 0],\n",
        "    [1, 0],\n",
        "    [0, 1],\n",
        "    [1, 1],\n",
        "    [2, 0], \n",
        "    [0, 2],\n",
        "    [2, 1],\n",
        "    [1, 2],\n",
        "    [2, 2]\n",
        "])\n",
        "Y = np.array([4, 5, 3, 5, 7, 3, 6, 4 , 3])\n",
        "\n",
        "z = np.matmul(X, weights) #Weighted sum\n",
        "#Assuming relu activation function\n",
        "def relu(x):\n",
        "    return np.maximum(0,x)\n",
        "\n",
        "a = relu(z) #Activations\n",
        "print(a.shape) \n",
        "# print(a)"
      ],
      "execution_count": 5,
      "outputs": [
        {
          "output_type": "stream",
          "text": [
            "(9, 3)\n"
          ],
          "name": "stdout"
        }
      ]
    },
    {
      "cell_type": "markdown",
      "metadata": {
        "id": "Ymai7Tk25KLu"
      },
      "source": [
        "## MNIST Again (from keras)\n",
        "Below we initilize a 3 layer Neural network with 64, 64, 10 nodes each, using keras library.\n",
        "Dont worry about training yet, just work out the shapes of weight matrices in the Neural Net.\n"
      ]
    },
    {
      "cell_type": "code",
      "metadata": {
        "id": "yn6BgU825KLu",
        "outputId": "d05afcbd-8575-47d0-d31c-340138e0a39c",
        "colab": {
          "base_uri": "https://localhost:8080/"
        }
      },
      "source": [
        "# Imports\n",
        "import numpy as np\n",
        "from keras.datasets import mnist\n",
        "from keras.models import Sequential\n",
        "from keras.layers.core import Dense, Activation\n",
        "from keras.optimizers import SGD\n",
        "from keras.utils import np_utils\n",
        "\n",
        "(X_train, Y_train), (X_test, Y_test) = mnist.load_data()\n",
        "print(X_train.shape)\n",
        "print(Y_train.shape)\n",
        "print(X_test.shape)\n",
        "\n",
        "# Reshape as feature vectors instead of 28X28 images\n",
        "X_train = X_train.reshape(60000, 28*28).astype('float32')\n",
        "X_test = X_test.reshape(10000, 28*28).astype('float32')\n",
        "\n",
        "# Encode Y as binary class vector\n",
        "Y_train = np_utils.to_categorical(Y_train, 10)\n",
        "Y_test = np_utils.to_categorical(Y_test, 10)\n",
        "\n",
        "print(X_train.shape)\n",
        "print(Y_train.shape)\n",
        "\n",
        "# Build a neural network\n",
        "model = Sequential()\n",
        "model.add(Dense(64, activation='relu', input_shape=(60000,)))\n",
        "model.add(Dense(64, activation='relu'))\n",
        "model.add(Dense(10, activation='softmax'))\n",
        "\n",
        "\n",
        "# Shape of weight matrices\n",
        "\n",
        "\n",
        "\n",
        "# Shape of weight matrices\n",
        "\n",
        "# Solution:\n",
        "# Shape of weight matrix = num_features X num_neurons\n",
        "# Shape of weight matrix for layer 1 =  784 X 64\n",
        "# Shape of weight matrix for layer 2 =  64 X 64\n",
        "# Shape of weight matrix for layer 3 =  64 X 10\n",
        "\n",
        "# Verifying the shape\n",
        "# model.layers is a list of layers. Layer1 = model.layers[0], Layer2 = model.layers[1] and so on.\n",
        "# layer.get_weights() returns a list of 2 elements, first is weights and second is biases, for now we are just interested in weights.\n",
        "\n",
        "shape1 = model.layers[0].get_weights()[0].shape\n",
        "print(shape1)\n",
        "shape2 = model.layers[1].get_weights()[0].shape\n",
        "print(shape2)\n",
        "shape3 = model.layers[2].get_weights()[0].shape\n",
        "print(shape3)\n",
        "\n"
      ],
      "execution_count": 7,
      "outputs": [
        {
          "output_type": "stream",
          "text": [
            "(60000, 28, 28)\n",
            "(60000,)\n",
            "(10000, 28, 28)\n",
            "(60000, 784)\n",
            "(60000, 10)\n",
            "(60000, 64)\n",
            "(64, 64)\n",
            "(64, 10)\n"
          ],
          "name": "stdout"
        }
      ]
    },
    {
      "cell_type": "code",
      "metadata": {
        "id": "17Iungvh5KLu"
      },
      "source": [
        ""
      ],
      "execution_count": null,
      "outputs": []
    }
  ]
}