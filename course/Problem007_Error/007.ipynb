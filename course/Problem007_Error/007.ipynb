{
  "nbformat": 4,
  "nbformat_minor": 0,
  "metadata": {
    "kernelspec": {
      "display_name": "Python 3",
      "language": "python",
      "name": "python3"
    },
    "language_info": {
      "codemirror_mode": {
        "name": "ipython",
        "version": 3
      },
      "file_extension": ".py",
      "mimetype": "text/x-python",
      "name": "python",
      "nbconvert_exporter": "python",
      "pygments_lexer": "ipython3",
      "version": "3.8.2-final"
    },
    "colab": {
      "name": "007.ipynb",
      "provenance": [],
      "include_colab_link": true
    }
  },
  "cells": [
    {
      "cell_type": "markdown",
      "metadata": {
        "id": "view-in-github",
        "colab_type": "text"
      },
      "source": [
        "<a href=\"https://colab.research.google.com/github/ddobronevskaya/pml/blob/master/course/Problem007_Error/007.ipynb\" target=\"_parent\"><img src=\"https://colab.research.google.com/assets/colab-badge.svg\" alt=\"Open In Colab\"/></a>"
      ]
    },
    {
      "cell_type": "markdown",
      "metadata": {
        "id": "dvNKifuyXNmK"
      },
      "source": [
        "##  $\\hat{y}$ (y_hat)"
      ]
    },
    {
      "cell_type": "code",
      "metadata": {
        "scrolled": true,
        "id": "A2odRXtOXNmL",
        "outputId": "317dda9e-02a7-4590-df20-2f8f0b3aab7f",
        "colab": {
          "base_uri": "https://localhost:8080/"
        }
      },
      "source": [
        "'''\n",
        "+--------------+\n",
        "| f            |\n",
        "+--------------+\n",
        "| x1 | x2 | y  |\n",
        "+----+----+----+\n",
        "| 2  | 3  | 4  |\n",
        "+----+----+----+\n",
        "| 8  | 5  | 10  |\n",
        "+----+----+----+\n",
        "| 6  | 4  | 6  |\n",
        "+----+----+----+\n",
        "| 10 | 2  | 8  |\n",
        "+----+----+----+\n",
        "| 4  | 2  | 3  |\n",
        "+----+----+----+\n",
        "| 16 | 7  | 1 |\n",
        "+----+----+----+\n",
        "'''\n",
        "\n",
        "X = [\n",
        "    [2, 3],\n",
        "    [8, 5],\n",
        "    [6, 4],\n",
        "    [10, 2],\n",
        "    [4, 2],\n",
        "    [16, 7]\n",
        "]\n",
        "\n",
        "Y = [4, 10, 6, 8, 3, 1]\n",
        "\n",
        "\n",
        "def f_hat(x1, x2):\n",
        "    return int(x1/2 + x2)\n",
        "\n",
        "#TBD Compute Y_hat where y_hat = f_hat(x1, x2)\n",
        "Y_hat = [f_hat(x1, x2) for (x1, x2) in X]\n",
        "Y_hat\n"
      ],
      "execution_count": 4,
      "outputs": [
        {
          "output_type": "execute_result",
          "data": {
            "text/plain": [
              "[4, 9, 7, 7, 4, 15]"
            ]
          },
          "metadata": {
            "tags": []
          },
          "execution_count": 4
        }
      ]
    },
    {
      "cell_type": "markdown",
      "metadata": {
        "id": "-Y1ndZ5VXNmS"
      },
      "source": [
        "## How far off are we? (Y vs $\\hat{Y}$)"
      ]
    },
    {
      "cell_type": "code",
      "metadata": {
        "id": "-_c-AydZXNmT",
        "outputId": "a92a64c0-ecb5-4191-edf9-7dbd9251f46c",
        "colab": {
          "base_uri": "https://localhost:8080/"
        }
      },
      "source": [
        "#TBD Compute Total(sum) Error between Y and Y_hat \n",
        "total_err = sum(n - n_hat for n, n_hat in zip(Y, Y_hat))\n",
        "print(total_err)\n",
        "#TBD Compute Total absolute Error between Y and Y_hat \n",
        "total_abs_err = sum(abs(n - n_hat) for n, n_hat in zip(Y, Y_hat))\n",
        "print(total_abs_err)\n",
        "#TBD Compute Mean absolute Error between Y and Y_hat \n",
        "mean_abs_err = sum(abs(n - n_hat) for n, n_hat in zip(Y, Y_hat))/len(Y)\n",
        "print(mean_abs_err)\n",
        "#TBD Compute Mean Squared Error between Y and Y_hat\n",
        "mean_sq_err =  sum(abs(n - n_hat)**2 for n, n_hat in zip(Y, Y_hat))/len(Y)\n",
        "print(mean_sq_err)"
      ],
      "execution_count": 12,
      "outputs": [
        {
          "output_type": "stream",
          "text": [
            "-14\n",
            "18\n",
            "3.0\n",
            "33.333333333333336\n"
          ],
          "name": "stdout"
        }
      ]
    },
    {
      "cell_type": "code",
      "metadata": {
        "id": "chof4QyzXNmY",
        "outputId": "156ab1f2-75fe-406e-f2a3-a6a03ff64c9a",
        "colab": {
          "base_uri": "https://localhost:8080/"
        }
      },
      "source": [
        "from sklearn.metrics import mean_absolute_error, mean_squared_error\n",
        "#Use sklearn\n",
        "#TBD Compute Mean absolute Error between Y and Y_hat \n",
        "print(mean_absolute_error(Y, Y_hat))\n",
        "#TBD Compute Mean squared Error between Y and Y_hat\n",
        "print(mean_squared_error(Y, Y_hat))"
      ],
      "execution_count": 15,
      "outputs": [
        {
          "output_type": "stream",
          "text": [
            "3.0\n",
            "33.333333333333336\n"
          ],
          "name": "stdout"
        }
      ]
    },
    {
      "cell_type": "code",
      "metadata": {
        "id": "KJk35voWk9fS"
      },
      "source": [
        ""
      ],
      "execution_count": null,
      "outputs": []
    }
  ]
}