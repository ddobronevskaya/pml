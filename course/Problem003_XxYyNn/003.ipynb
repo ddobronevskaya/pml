{
  "nbformat": 4,
  "nbformat_minor": 0,
  "metadata": {
    "kernelspec": {
      "display_name": "Python 3",
      "language": "python",
      "name": "python3"
    },
    "language_info": {
      "codemirror_mode": {
        "name": "ipython",
        "version": 3
      },
      "file_extension": ".py",
      "mimetype": "text/x-python",
      "name": "python",
      "nbconvert_exporter": "python",
      "pygments_lexer": "ipython3",
      "version": "3.6.5"
    },
    "colab": {
      "name": "003.ipynb",
      "provenance": []
    }
  },
  "cells": [
    {
      "cell_type": "markdown",
      "metadata": {
        "id": "De3fE6Vd6Or6"
      },
      "source": [
        "# Load Boston Housing Dataset\n",
        "https://scikit-learn.org/stable/modules/generated/sklearn.datasets.load_boston.html#sklearn.datasets.load_boston"
      ]
    },
    {
      "cell_type": "code",
      "metadata": {
        "scrolled": true,
        "id": "xIrCOON16Or7"
      },
      "source": [
        "from sklearn.datasets import load_boston\n",
        "house_data = load_boston()"
      ],
      "execution_count": 40,
      "outputs": []
    },
    {
      "cell_type": "code",
      "metadata": {
        "id": "_qshaOOo6Or_",
        "outputId": "6575d0a2-fe96-418c-c7e8-bda347d603e4",
        "colab": {
          "base_uri": "https://localhost:8080/",
          "height": 34
        }
      },
      "source": [
        "# How many houses are there (N)\n",
        "N = 0 #TBD\n",
        "dir(house_data)\n",
        "#print(house_data['DESCR'])\n",
        "len(house_data['data'])"
      ],
      "execution_count": 41,
      "outputs": [
        {
          "output_type": "execute_result",
          "data": {
            "text/plain": [
              "506"
            ]
          },
          "metadata": {
            "tags": []
          },
          "execution_count": 41
        }
      ]
    },
    {
      "cell_type": "code",
      "metadata": {
        "id": "9CbOTCwX6OsC",
        "outputId": "c62d4cd0-470c-4964-b57d-c738dffe028a",
        "colab": {
          "base_uri": "https://localhost:8080/",
          "height": 34
        }
      },
      "source": [
        "# A house has how many attributes(or features or signals or dimensions or columns)\n",
        "n = 0 #TBD\n",
        "len(house_data['feature_names'])\n",
        "\n",
        "\n",
        "# All attributes together make up a row (or input or x)"
      ],
      "execution_count": 42,
      "outputs": [
        {
          "output_type": "execute_result",
          "data": {
            "text/plain": [
              "13"
            ]
          },
          "metadata": {
            "tags": []
          },
          "execution_count": 42
        }
      ]
    },
    {
      "cell_type": "code",
      "metadata": {
        "id": "LOO5KdRr6OsG",
        "outputId": "baa7ed3f-1820-4697-9674-60e8e85d507c",
        "colab": {
          "base_uri": "https://localhost:8080/",
          "height": 34
        }
      },
      "source": [
        "# Whats the Median value of the first house (target or label or output y)\n",
        "print(house_data['target'][0])\n",
        "\n",
        "# TBD"
      ],
      "execution_count": 43,
      "outputs": [
        {
          "output_type": "stream",
          "text": [
            "24.0\n"
          ],
          "name": "stdout"
        }
      ]
    },
    {
      "cell_type": "code",
      "metadata": {
        "id": "Xl4aXr8L7XeU",
        "outputId": "9e9f3d72-b761-4149-a42e-f11abd61e5ef",
        "colab": {
          "base_uri": "https://localhost:8080/",
          "height": 51
        }
      },
      "source": [
        "dir(house_data)\n",
        "print(house_data['feature_names'])"
      ],
      "execution_count": 44,
      "outputs": [
        {
          "output_type": "stream",
          "text": [
            "['CRIM' 'ZN' 'INDUS' 'CHAS' 'NOX' 'RM' 'AGE' 'DIS' 'RAD' 'TAX' 'PTRATIO'\n",
            " 'B' 'LSTAT']\n"
          ],
          "name": "stdout"
        }
      ]
    },
    {
      "cell_type": "code",
      "metadata": {
        "id": "aqI1JAGS6OsJ",
        "outputId": "5fcb03bd-ec71-4cca-a8f1-e7db809964e3",
        "colab": {
          "base_uri": "https://localhost:8080/",
          "height": 34
        }
      },
      "source": [
        "# Whats the value of feature RM (average number of rooms per dwelling) for the last house\n",
        "# TBD\n",
        "#print(house_data['DESCR'])\n",
        "print(house_data['data'][-1][5])"
      ],
      "execution_count": 52,
      "outputs": [
        {
          "output_type": "stream",
          "text": [
            "6.03\n"
          ],
          "name": "stdout"
        }
      ]
    },
    {
      "cell_type": "markdown",
      "metadata": {
        "id": "ah2TORAT6OsM"
      },
      "source": [
        "#### House 8 all features\n",
        "$\n",
        "\\begin{align}\n",
        "X^{8} \n",
        "\\end{align}\n",
        "$\n"
      ]
    },
    {
      "cell_type": "code",
      "metadata": {
        "id": "J5UYXqRD6OsM",
        "outputId": "435edda1-9096-4da7-adc3-dd96a7b10883",
        "colab": {
          "base_uri": "https://localhost:8080/",
          "height": 68
        }
      },
      "source": [
        "print(house_data['data'][8])"
      ],
      "execution_count": 57,
      "outputs": [
        {
          "output_type": "stream",
          "text": [
            "[2.1124e-01 1.2500e+01 7.8700e+00 0.0000e+00 5.2400e-01 5.6310e+00\n",
            " 1.0000e+02 6.0821e+00 5.0000e+00 3.1100e+02 1.5200e+01 3.8663e+02\n",
            " 2.9930e+01]\n"
          ],
          "name": "stdout"
        }
      ]
    },
    {
      "cell_type": "markdown",
      "metadata": {
        "id": "lZ_BCHhq6OsQ"
      },
      "source": [
        "#### House 8,  feature 2\n",
        "(INDUS proportion of non-retail business acres per town)\n",
        "\n",
        "$\n",
        "\\begin{align}\n",
        "X_{2}^{8}\n",
        "\\end{align}\n",
        "$\n"
      ]
    },
    {
      "cell_type": "code",
      "metadata": {
        "id": "W0PkQdgI6OsR",
        "outputId": "07cde58b-f905-44c0-fdbe-2a963dbe9c30",
        "colab": {
          "base_uri": "https://localhost:8080/",
          "height": 34
        }
      },
      "source": [
        "print(house_data['data'][8][2])"
      ],
      "execution_count": 58,
      "outputs": [
        {
          "output_type": "stream",
          "text": [
            "7.87\n"
          ],
          "name": "stdout"
        }
      ]
    },
    {
      "cell_type": "markdown",
      "metadata": {
        "id": "ArRVg4bT6OsU"
      },
      "source": [
        "#### All houses feature 4\n",
        "(NOX nitric oxides concentration)\n",
        "\n",
        "$\n",
        "\\begin{align}\n",
        "X_{4}\n",
        "\\end{align}\n",
        "$\n"
      ]
    },
    {
      "cell_type": "code",
      "metadata": {
        "id": "f_8Yc5jm6OsV",
        "outputId": "dc2747e1-934f-42ac-bc8a-9438dd85de47",
        "colab": {
          "base_uri": "https://localhost:8080/",
          "height": 884
        }
      },
      "source": [
        "print(house_data['data'][:,4])"
      ],
      "execution_count": 62,
      "outputs": [
        {
          "output_type": "stream",
          "text": [
            "[0.538  0.469  0.469  0.458  0.458  0.458  0.524  0.524  0.524  0.524\n",
            " 0.524  0.524  0.524  0.538  0.538  0.538  0.538  0.538  0.538  0.538\n",
            " 0.538  0.538  0.538  0.538  0.538  0.538  0.538  0.538  0.538  0.538\n",
            " 0.538  0.538  0.538  0.538  0.538  0.499  0.499  0.499  0.499  0.428\n",
            " 0.428  0.448  0.448  0.448  0.448  0.448  0.448  0.448  0.448  0.448\n",
            " 0.439  0.439  0.439  0.439  0.41   0.403  0.41   0.411  0.453  0.453\n",
            " 0.453  0.453  0.453  0.453  0.4161 0.398  0.398  0.409  0.409  0.409\n",
            " 0.413  0.413  0.413  0.413  0.437  0.437  0.437  0.437  0.437  0.437\n",
            " 0.426  0.426  0.426  0.426  0.449  0.449  0.449  0.449  0.489  0.489\n",
            " 0.489  0.489  0.464  0.464  0.464  0.445  0.445  0.445  0.445  0.445\n",
            " 0.52   0.52   0.52   0.52   0.52   0.52   0.52   0.52   0.52   0.52\n",
            " 0.52   0.547  0.547  0.547  0.547  0.547  0.547  0.547  0.547  0.547\n",
            " 0.581  0.581  0.581  0.581  0.581  0.581  0.581  0.624  0.624  0.624\n",
            " 0.624  0.624  0.624  0.624  0.624  0.624  0.624  0.624  0.624  0.624\n",
            " 0.624  0.624  0.871  0.871  0.871  0.871  0.871  0.871  0.871  0.871\n",
            " 0.871  0.871  0.871  0.871  0.871  0.871  0.871  0.605  0.605  0.871\n",
            " 0.605  0.605  0.605  0.605  0.605  0.605  0.605  0.605  0.605  0.605\n",
            " 0.605  0.605  0.51   0.51   0.51   0.51   0.51   0.51   0.51   0.488\n",
            " 0.488  0.488  0.488  0.488  0.488  0.488  0.488  0.437  0.437  0.437\n",
            " 0.437  0.437  0.437  0.401  0.401  0.422  0.404  0.404  0.404  0.403\n",
            " 0.403  0.415  0.415  0.4161 0.4161 0.489  0.489  0.489  0.489  0.489\n",
            " 0.489  0.489  0.489  0.489  0.489  0.489  0.55   0.55   0.55   0.55\n",
            " 0.507  0.507  0.507  0.507  0.504  0.504  0.504  0.504  0.504  0.504\n",
            " 0.504  0.504  0.507  0.507  0.507  0.507  0.507  0.507  0.428  0.428\n",
            " 0.428  0.428  0.428  0.428  0.431  0.431  0.431  0.431  0.431  0.431\n",
            " 0.431  0.431  0.431  0.431  0.392  0.392  0.394  0.647  0.647  0.647\n",
            " 0.647  0.647  0.647  0.647  0.647  0.647  0.647  0.575  0.575  0.464\n",
            " 0.464  0.464  0.464  0.464  0.447  0.447  0.447  0.447  0.447  0.4429\n",
            " 0.4429 0.4429 0.4429 0.401  0.4    0.389  0.385  0.405  0.405  0.405\n",
            " 0.411  0.411  0.411  0.437  0.437  0.437  0.437  0.437  0.4    0.4\n",
            " 0.4    0.433  0.433  0.433  0.472  0.472  0.472  0.472  0.544  0.544\n",
            " 0.544  0.544  0.544  0.544  0.544  0.544  0.544  0.544  0.544  0.544\n",
            " 0.493  0.493  0.493  0.493  0.493  0.493  0.493  0.493  0.46   0.46\n",
            " 0.46   0.4379 0.4379 0.515  0.515  0.515  0.515  0.515  0.515  0.515\n",
            " 0.515  0.442  0.518  0.484  0.484  0.442  0.442  0.429  0.435  0.429\n",
            " 0.429  0.411  0.411  0.41   0.413  0.413  0.77   0.77   0.77   0.77\n",
            " 0.77   0.77   0.77   0.77   0.718  0.718  0.718  0.631  0.631  0.631\n",
            " 0.631  0.631  0.668  0.668  0.668  0.671  0.671  0.671  0.671  0.671\n",
            " 0.671  0.671  0.7    0.7    0.7    0.7    0.7    0.7    0.7    0.7\n",
            " 0.7    0.7    0.7    0.693  0.693  0.693  0.693  0.693  0.693  0.693\n",
            " 0.693  0.693  0.693  0.693  0.693  0.693  0.659  0.659  0.597  0.597\n",
            " 0.597  0.597  0.597  0.597  0.693  0.679  0.679  0.679  0.679  0.718\n",
            " 0.718  0.718  0.614  0.614  0.584  0.679  0.584  0.679  0.679  0.679\n",
            " 0.584  0.584  0.584  0.713  0.713  0.74   0.74   0.74   0.74   0.74\n",
            " 0.74   0.74   0.74   0.74   0.74   0.74   0.74   0.74   0.713  0.713\n",
            " 0.713  0.713  0.713  0.713  0.713  0.713  0.713  0.713  0.713  0.713\n",
            " 0.713  0.713  0.713  0.713  0.655  0.655  0.655  0.584  0.58   0.58\n",
            " 0.58   0.532  0.58   0.614  0.584  0.584  0.614  0.614  0.614  0.614\n",
            " 0.532  0.532  0.532  0.532  0.583  0.583  0.583  0.583  0.609  0.609\n",
            " 0.609  0.609  0.609  0.585  0.585  0.585  0.585  0.585  0.585  0.585\n",
            " 0.585  0.573  0.573  0.573  0.573  0.573 ]\n"
          ],
          "name": "stdout"
        }
      ]
    },
    {
      "cell_type": "markdown",
      "metadata": {
        "id": "oCx1PgVl6OsX"
      },
      "source": [
        "#### Target value for house 4\n",
        "$\n",
        "Y^{4}\n",
        "$\n"
      ]
    },
    {
      "cell_type": "code",
      "metadata": {
        "id": "qAQFF1ut6OsY",
        "outputId": "afbe645b-5677-4f27-9dea-7b2379e66edb",
        "colab": {
          "base_uri": "https://localhost:8080/",
          "height": 34
        }
      },
      "source": [
        "print(house_data['target'][4])"
      ],
      "execution_count": 63,
      "outputs": [
        {
          "output_type": "stream",
          "text": [
            "36.2\n"
          ],
          "name": "stdout"
        }
      ]
    },
    {
      "cell_type": "markdown",
      "metadata": {
        "id": "boiWOkdl6Osa"
      },
      "source": [
        "Small *x* and *y* are used to represent a *feature* and *target* of a single house\n",
        "#### Which among the following could be valid representation?\n",
        "$\n",
        "x^{4}\\:, \\: x_{2}\\:,\\:y^{4}\\:,\\:y_{2}\n",
        "$\n",
        "\n"
      ]
    },
    {
      "cell_type": "markdown",
      "metadata": {
        "id": "q0sU-cq9BmOX"
      },
      "source": [
        "x2 makes sense - second feature of a house \n",
        "y is just a target value so no. indexing there\n"
      ]
    },
    {
      "cell_type": "code",
      "metadata": {
        "id": "OpwE9YP1BsdZ"
      },
      "source": [
        ""
      ],
      "execution_count": null,
      "outputs": []
    },
    {
      "cell_type": "code",
      "metadata": {
        "id": "_m9Dx5SjBspa"
      },
      "source": [
        ""
      ],
      "execution_count": null,
      "outputs": []
    }
  ]
}