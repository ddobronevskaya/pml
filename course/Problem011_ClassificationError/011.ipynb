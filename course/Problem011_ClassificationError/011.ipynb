{
  "nbformat": 4,
  "nbformat_minor": 0,
  "metadata": {
    "kernelspec": {
      "display_name": "Python 3",
      "language": "python",
      "name": "python3"
    },
    "language_info": {
      "codemirror_mode": {
        "name": "ipython",
        "version": 3
      },
      "file_extension": ".py",
      "mimetype": "text/x-python",
      "name": "python",
      "nbconvert_exporter": "python",
      "pygments_lexer": "ipython3",
      "version": "3.8.2-final"
    },
    "colab": {
      "name": "011.ipynb",
      "provenance": [],
      "include_colab_link": true
    }
  },
  "cells": [
    {
      "cell_type": "markdown",
      "metadata": {
        "id": "view-in-github",
        "colab_type": "text"
      },
      "source": [
        "<a href=\"https://colab.research.google.com/github/ddobronevskaya/pml/blob/master/course/Problem011_ClassificationError/011.ipynb\" target=\"_parent\"><img src=\"https://colab.research.google.com/assets/colab-badge.svg\" alt=\"Open In Colab\"/></a>"
      ]
    },
    {
      "cell_type": "markdown",
      "metadata": {
        "scrolled": true,
        "id": "QJBUsYUyuKGs"
      },
      "source": [
        "## Categorical cross entropy error\n",
        "\n",
        "$\n",
        "J = - \\frac{1}{N} \\sum\\limits_{i = 0}^{N} \\large{(} \\small y^{(i)}\\log\\left(\\hat{y}^{(i)}\\right) + (1-y^{(i)})\\log\\left(1- \\hat{y}^{(i)}\\right) \\large{)}\n",
        "$"
      ]
    },
    {
      "cell_type": "code",
      "metadata": {
        "id": "NuIK_-jDuKGt",
        "outputId": "cae1a895-44f7-46e3-acb8-a17627eda11f",
        "colab": {
          "base_uri": "https://localhost:8080/"
        }
      },
      "source": [
        "import numpy as np\n",
        "from math import *\n",
        "Y = np.array([1, 0, 0, 0, 1, 1, 0])\n",
        "\n",
        "# Follwing are the corrosponding Y_hat values from 3 classification models\n",
        "# TBD: Arrange the models from best to worst.\n",
        "Y_hat1 = np.array([0.99, 0.01, 0.01, 0.01, 0.99, 0.99, 0.01])\n",
        "Y_hat2 = np.array([0.01, 0.99, 0.99, 0.99, 0.01, 0.01, 0.99])\n",
        "Y_hat3 = np.array([0.99, 0.01, 0.01, 0.99, 0.99, 0.01, 0.01])\n",
        "Y_hat4 = np.array([0.99, 0.01, 0.01, 0.99, 0.99, 0.01, 0.99])\n",
        "\n",
        "J1 = (-1/len(Y)) * (sum(z * log(z_hat) + (1-z)*log(1 - z_hat) for z, z_hat in zip(Y, Y_hat1) ))\n",
        "J2 = (-1/len(Y)) * (sum(z * log(z_hat) + (1-z)*log(1 - z_hat) for z, z_hat in zip(Y, Y_hat2) ))\n",
        "J3 = (-1/len(Y)) * (sum(z * log(z_hat) + (1-z)*log(1 - z_hat) for z, z_hat in zip(Y, Y_hat3) ))\n",
        "J4 = (-1/len(Y)) * (sum(z * log(z_hat) + (1-z)*log(1 - z_hat) for z, z_hat in zip(Y, Y_hat4) ))\n",
        "print(\"J1 : \" + str(J1), \n",
        "      \"J2 : \"+str(J2),\n",
        "      \"J3 : \" + str(J3), \n",
        "      \"J4 : \" + str(J4))\n",
        "print('from best to worst: J1, J3, J4, J2')"
      ],
      "execution_count": 22,
      "outputs": [
        {
          "output_type": "stream",
          "text": [
            "J1 : 0.010050335853501449 J2 : 4.60517018598809 J3 : 1.3229417216062413 J4 : 1.9793874144826111\n",
            "from best to worst: J1, J3, J4, J2\n"
          ],
          "name": "stdout"
        }
      ]
    },
    {
      "cell_type": "code",
      "metadata": {
        "id": "cgYQS-f0uKGy",
        "outputId": "add1a896-f81c-45e9-c8d2-67a7dc57565a",
        "colab": {
          "base_uri": "https://localhost:8080/"
        }
      },
      "source": [
        "#TBD For above Y and Y_hat values compute categorical cross entropy error using sklearn library function\n",
        "from sklearn.metrics import log_loss\n",
        "\n",
        "print(log_loss(Y, Y_hat1))\n",
        "print(log_loss(Y, Y_hat2))\n",
        "print(log_loss(Y, Y_hat3))\n",
        "print(log_loss(Y, Y_hat4))\n",
        "\n",
        "\n"
      ],
      "execution_count": 25,
      "outputs": [
        {
          "output_type": "stream",
          "text": [
            "0.010050335853501449\n",
            "4.605170185988091\n",
            "1.3229417216062413\n",
            "1.9793874144826111\n"
          ],
          "name": "stdout"
        }
      ]
    },
    {
      "cell_type": "code",
      "metadata": {
        "id": "HAf3Ujv5zScj"
      },
      "source": [
        ""
      ],
      "execution_count": null,
      "outputs": []
    }
  ]
}