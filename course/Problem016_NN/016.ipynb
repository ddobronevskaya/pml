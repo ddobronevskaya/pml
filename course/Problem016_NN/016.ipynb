{
  "nbformat": 4,
  "nbformat_minor": 0,
  "metadata": {
    "kernelspec": {
      "display_name": "Python 3",
      "language": "python",
      "name": "python3"
    },
    "language_info": {
      "codemirror_mode": {
        "name": "ipython",
        "version": 3
      },
      "file_extension": ".py",
      "mimetype": "text/x-python",
      "name": "python",
      "nbconvert_exporter": "python",
      "pygments_lexer": "ipython3",
      "version": "3.8.2-final"
    },
    "colab": {
      "name": "016.ipynb",
      "provenance": [],
      "include_colab_link": true
    }
  },
  "cells": [
    {
      "cell_type": "markdown",
      "metadata": {
        "id": "view-in-github",
        "colab_type": "text"
      },
      "source": [
        "<a href=\"https://colab.research.google.com/github/ddobronevskaya/pml/blob/master/course/Problem016_NN/016.ipynb\" target=\"_parent\"><img src=\"https://colab.research.google.com/assets/colab-badge.svg\" alt=\"Open In Colab\"/></a>"
      ]
    },
    {
      "cell_type": "markdown",
      "metadata": {
        "id": "2yKNuYmD2t-0"
      },
      "source": [
        "## Neural Network\n",
        "\n",
        "<img src=\"https://github.com/ddobronevskaya/pml/blob/master/img/nn016.png?raw=1\" width=\"900\">\n",
        "\n",
        "## TBD: For the given neural network above: \n",
        "* How many layers are there in total?\n",
        "* How many hidden layers?\n",
        "* How many weights are there in first hidden layer?\n",
        "* How many weights are there in total?\n",
        "* How many activations are produced from first hidden layer for single input sample?\n"
      ]
    },
    {
      "cell_type": "markdown",
      "metadata": {
        "id": "bP2LUT6n3PC6"
      },
      "source": [
        "1.  4 layers in total\n",
        "2.  2 hidden layers in total\n",
        "3.  3 neurons, 2 w per neuron => 6 weights in the first hidden layer\n",
        "4.  6 + 4 + 2 = 12 weihts in total\n",
        "5.  3 - one activation per neuron\n"
      ]
    },
    {
      "cell_type": "code",
      "metadata": {
        "id": "fSYQPOoR3gtf"
      },
      "source": [
        ""
      ],
      "execution_count": null,
      "outputs": []
    }
  ]
}