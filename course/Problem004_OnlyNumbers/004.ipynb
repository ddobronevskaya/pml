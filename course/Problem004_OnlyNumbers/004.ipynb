{
  "nbformat": 4,
  "nbformat_minor": 0,
  "metadata": {
    "kernelspec": {
      "display_name": "Python 3",
      "language": "python",
      "name": "python3"
    },
    "language_info": {
      "codemirror_mode": {
        "name": "ipython",
        "version": 3
      },
      "file_extension": ".py",
      "mimetype": "text/x-python",
      "name": "python",
      "nbconvert_exporter": "python",
      "pygments_lexer": "ipython3",
      "version": "3.6.5"
    },
    "colab": {
      "name": "004.ipynb",
      "provenance": [],
      "include_colab_link": true
    }
  },
  "cells": [
    {
      "cell_type": "markdown",
      "metadata": {
        "id": "view-in-github",
        "colab_type": "text"
      },
      "source": [
        "<a href=\"https://colab.research.google.com/github/ddobronevskaya/pml/blob/master/course/Problem004_OnlyNumbers/004.ipynb\" target=\"_parent\"><img src=\"https://colab.research.google.com/assets/colab-badge.svg\" alt=\"Open In Colab\"/></a>"
      ]
    },
    {
      "cell_type": "markdown",
      "metadata": {
        "scrolled": true,
        "id": "FyAByyaX9njI"
      },
      "source": [
        "### Features and Target  are (should be) numbers"
      ]
    },
    {
      "cell_type": "markdown",
      "metadata": {
        "id": "a81-tzYs9njJ"
      },
      "source": [
        "#### Text as Features"
      ]
    },
    {
      "cell_type": "code",
      "metadata": {
        "id": "Gx1nUAY09njK"
      },
      "source": [
        "# Lets say your vocabulary consist of only 4 words\n",
        "# \"foo\", \"bar\", \"hello\", \"world\"\n",
        "\n",
        "# If we want to build a dataset of following 4 documents\n",
        "# to be passed to some ML algorithm\n",
        "\n",
        "doc1 = \"foo foo bar\"\n",
        "doc2 = \"foo\"\n",
        "doc3 = \"hello world\"\n",
        "doc4 = \"hello foo\"\n",
        "\n",
        "docs = [doc1, doc2, doc3, doc4]\n",
        " \n",
        "x = [\n",
        "     [2, 1, 0, 0],\n",
        "     [1, 0, 0, 0],\n",
        "     [0, 0, 1, 1],\n",
        "     [1, 0, 1, 0]\n",
        "]\n",
        "\n",
        "# TBD, convert docs to X, i.e a dataset of features which ML algorithm can understand"
      ],
      "execution_count": null,
      "outputs": []
    },
    {
      "cell_type": "code",
      "metadata": {
        "id": "ukJs4K2n9njP"
      },
      "source": [
        "# TBD, convert docs to X, i.e a dataset of features which ML algorithm can understand\n",
        "# using CountVectorizer\n",
        "from sklearn.feature_extraction.text import CountVectorizer\n"
      ],
      "execution_count": null,
      "outputs": []
    },
    {
      "cell_type": "markdown",
      "metadata": {
        "id": "9D6cgKCi9njT"
      },
      "source": [
        "#### Image as Features"
      ]
    },
    {
      "cell_type": "code",
      "metadata": {
        "id": "cDOsY73T9njU",
        "outputId": "0746a3b0-f1d4-4da6-f376-79362cc49644",
        "colab": {
          "base_uri": "https://localhost:8080/"
        }
      },
      "source": [
        "from sklearn.datasets import load_digits\n",
        "digits_data = load_digits()\n",
        "dir(digits_data)"
      ],
      "execution_count": 3,
      "outputs": [
        {
          "output_type": "execute_result",
          "data": {
            "text/plain": [
              "['DESCR', 'data', 'images', 'target', 'target_names']"
            ]
          },
          "metadata": {
            "tags": []
          },
          "execution_count": 3
        }
      ]
    },
    {
      "cell_type": "code",
      "metadata": {
        "id": "1eCXZ_sYaos4",
        "outputId": "443b992a-479b-437f-ce3b-28bab0d473d5",
        "colab": {
          "base_uri": "https://localhost:8080/"
        }
      },
      "source": [
        "print(digits_data['data'])"
      ],
      "execution_count": 12,
      "outputs": [
        {
          "output_type": "stream",
          "text": [
            "[[ 0.  0.  5. ...  0.  0.  0.]\n",
            " [ 0.  0.  0. ... 10.  0.  0.]\n",
            " [ 0.  0.  0. ... 16.  9.  0.]\n",
            " ...\n",
            " [ 0.  0.  1. ...  6.  0.  0.]\n",
            " [ 0.  0.  2. ... 12.  0.  0.]\n",
            " [ 0.  0. 10. ... 12.  1.  0.]]\n"
          ],
          "name": "stdout"
        }
      ]
    },
    {
      "cell_type": "code",
      "metadata": {
        "id": "UidkjZ-3Zw0o",
        "outputId": "480b50b3-f00b-46af-98de-e0a39f832af0",
        "colab": {
          "base_uri": "https://localhost:8080/"
        }
      },
      "source": [
        "print(digits_data['DESCR'])"
      ],
      "execution_count": 8,
      "outputs": [
        {
          "output_type": "stream",
          "text": [
            ".. _digits_dataset:\n",
            "\n",
            "Optical recognition of handwritten digits dataset\n",
            "--------------------------------------------------\n",
            "\n",
            "**Data Set Characteristics:**\n",
            "\n",
            "    :Number of Instances: 5620\n",
            "    :Number of Attributes: 64\n",
            "    :Attribute Information: 8x8 image of integer pixels in the range 0..16.\n",
            "    :Missing Attribute Values: None\n",
            "    :Creator: E. Alpaydin (alpaydin '@' boun.edu.tr)\n",
            "    :Date: July; 1998\n",
            "\n",
            "This is a copy of the test set of the UCI ML hand-written digits datasets\n",
            "https://archive.ics.uci.edu/ml/datasets/Optical+Recognition+of+Handwritten+Digits\n",
            "\n",
            "The data set contains images of hand-written digits: 10 classes where\n",
            "each class refers to a digit.\n",
            "\n",
            "Preprocessing programs made available by NIST were used to extract\n",
            "normalized bitmaps of handwritten digits from a preprinted form. From a\n",
            "total of 43 people, 30 contributed to the training set and different 13\n",
            "to the test set. 32x32 bitmaps are divided into nonoverlapping blocks of\n",
            "4x4 and the number of on pixels are counted in each block. This generates\n",
            "an input matrix of 8x8 where each element is an integer in the range\n",
            "0..16. This reduces dimensionality and gives invariance to small\n",
            "distortions.\n",
            "\n",
            "For info on NIST preprocessing routines, see M. D. Garris, J. L. Blue, G.\n",
            "T. Candela, D. L. Dimmick, J. Geist, P. J. Grother, S. A. Janet, and C.\n",
            "L. Wilson, NIST Form-Based Handprint Recognition System, NISTIR 5469,\n",
            "1994.\n",
            "\n",
            ".. topic:: References\n",
            "\n",
            "  - C. Kaynak (1995) Methods of Combining Multiple Classifiers and Their\n",
            "    Applications to Handwritten Digit Recognition, MSc Thesis, Institute of\n",
            "    Graduate Studies in Science and Engineering, Bogazici University.\n",
            "  - E. Alpaydin, C. Kaynak (1998) Cascading Classifiers, Kybernetika.\n",
            "  - Ken Tang and Ponnuthurai N. Suganthan and Xi Yao and A. Kai Qin.\n",
            "    Linear dimensionalityreduction using relevance weighted LDA. School of\n",
            "    Electrical and Electronic Engineering Nanyang Technological University.\n",
            "    2005.\n",
            "  - Claudio Gentile. A New Approximate Maximal Margin Classification\n",
            "    Algorithm. NIPS. 2000.\n"
          ],
          "name": "stdout"
        }
      ]
    },
    {
      "cell_type": "code",
      "metadata": {
        "id": "YYlJhiZd9njY",
        "outputId": "f83140dd-a953-43ef-b65c-42f1f4a96ad5",
        "colab": {
          "base_uri": "https://localhost:8080/",
          "height": 156
        }
      },
      "source": [
        "import matplotlib.pyplot as plt\n",
        "def show_image(image, label):\n",
        "    plt.figure(figsize=(3,2))\n",
        "    plt.axis('off')\n",
        "    plt.imshow(image, cmap='gray')\n",
        "    plt.title('Label: %i' % label)\n",
        "    plt.show()\n",
        "our_image = digits_data['images'][12]\n",
        "label = 12\n",
        "show_image(our_image, label)\n",
        "\n",
        "#print(digits_data['images'][12])\n",
        "# TBD for image 12 show image and label, use function show_image"
      ],
      "execution_count": 26,
      "outputs": [
        {
          "output_type": "display_data",
          "data": {
            "image/png": "[encoded data removed]",
            "text/plain": [
              "<Figure size 216x144 with 1 Axes>"
            ]
          },
          "metadata": {
            "tags": [],
            "needs_background": "light"
          }
        }
      ]
    },
    {
      "cell_type": "markdown",
      "metadata": {
        "id": "oRBBGX6p9njb"
      },
      "source": [
        "#### Image 12 all features\n",
        "$\n",
        "\\begin{align}\n",
        "X^{12} \n",
        "\\end{align}\n",
        "$\n"
      ]
    },
    {
      "cell_type": "code",
      "metadata": {
        "id": "dUUf-Pw89njc",
        "outputId": "85bacf07-e0ee-44a2-dddf-e6328d9c44a3",
        "colab": {
          "base_uri": "https://localhost:8080/"
        }
      },
      "source": [
        "digits_data['images'][12]"
      ],
      "execution_count": 13,
      "outputs": [
        {
          "output_type": "execute_result",
          "data": {
            "text/plain": [
              "array([[ 0.,  0.,  5., 12.,  1.,  0.,  0.,  0.],\n",
              "       [ 0.,  0., 15., 14.,  7.,  0.,  0.,  0.],\n",
              "       [ 0.,  0., 13.,  1., 12.,  0.,  0.,  0.],\n",
              "       [ 0.,  2., 10.,  0., 14.,  0.,  0.,  0.],\n",
              "       [ 0.,  0.,  2.,  0., 16.,  1.,  0.,  0.],\n",
              "       [ 0.,  0.,  0.,  6., 15.,  0.,  0.,  0.],\n",
              "       [ 0.,  0.,  9., 16., 15.,  9.,  8.,  2.],\n",
              "       [ 0.,  0.,  3., 11.,  8., 13., 12.,  4.]])"
            ]
          },
          "metadata": {
            "tags": []
          },
          "execution_count": 13
        }
      ]
    },
    {
      "cell_type": "markdown",
      "metadata": {
        "id": "F2gD2xt79njf"
      },
      "source": [
        "####  Image 12 intensity of pixel 20 \n",
        "$\n",
        "\\begin{align}\n",
        "X^{11}_{20} \n",
        "\\end{align}\n",
        "$"
      ]
    },
    {
      "cell_type": "code",
      "metadata": {
        "id": "EsnROoXq9njg",
        "outputId": "87375f0e-4b37-462d-d9fc-c22c82410520",
        "colab": {
          "base_uri": "https://localhost:8080/"
        }
      },
      "source": [
        "print(digits_data['images'][12][1, 3])"
      ],
      "execution_count": 23,
      "outputs": [
        {
          "output_type": "stream",
          "text": [
            "14.0\n"
          ],
          "name": "stdout"
        }
      ]
    },
    {
      "cell_type": "code",
      "metadata": {
        "id": "7pbJu7WicUqw"
      },
      "source": [
        ""
      ],
      "execution_count": null,
      "outputs": []
    }
  ]
}